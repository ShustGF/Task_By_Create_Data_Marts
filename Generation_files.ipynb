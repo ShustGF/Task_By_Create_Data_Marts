{
 "cells": [
  {
   "cell_type": "markdown",
   "metadata": {
    "id": "zwVO1W63SG78"
   },
   "source": [
    "Ссылка на данный блокнот: https://colab.research.google.com/drive/1QJhmaAGopzt9t7oh9CV420mWCQAGD63i?usp=drive_link"
   ]
  },
  {
   "cell_type": "markdown",
   "metadata": {
    "id": "kxKIHjWpS8Gm"
   },
   "source": [
    "Чтобы в Google Collab работал PySpark необходимо установить на виртуальное окружение пакет Java, скачать архив Spark, распаковать его и для Python установить библиотеку findspark.\n"
   ]
  },
  {
   "cell_type": "code",
   "execution_count": null,
   "metadata": {
    "id": "vi0WgmdKA5xw"
   },
   "outputs": [],
   "source": [
    "!apt-get install openjdk-8-jdk-headless -qq > /dev/null\n",
    "!wget -q http://archive.apache.org/dist/spark/spark-3.1.1/spark-3.1.1-bin-hadoop3.2.tgz\n",
    "!tar xf spark-3.1.1-bin-hadoop3.2.tgz\n",
    "!pip install -q findspark"
   ]
  },
  {
   "cell_type": "markdown",
   "metadata": {
    "id": "5KsRAqUmT6-f"
   },
   "source": [
    "Добавляем значения \"JAVA_HOME\" и \"SPARK_HOME\" в переменные среды с помощью метода \"os.environ\"   и указываем каталоги, где находятся Java и пакет Spark. Объявляем \"Master\" в нашем случае он локальный (\"local[*]\").\n"
   ]
  },
  {
   "cell_type": "code",
   "execution_count": null,
   "metadata": {
    "id": "hsMtTyl8h_Uo"
   },
   "outputs": [],
   "source": [
    "import os\n",
    "\n",
    "os.environ[\"JAVA_HOME\"] = \"/usr/lib/jvm/java-8-openjdk-amd64\"\n",
    "os.environ[\"SPARK_HOME\"] = \"/content/spark-3.1.1-bin-hadoop3.2\"\n",
    "import findspark\n",
    "\n",
    "findspark.init()\n",
    "from pyspark.sql import SparkSession\n",
    "\n",
    "spark = SparkSession.builder.master(\"local[*]\").getOrCreate()\n",
    "spark.conf.set(\"spark.sql.repl.eagerEval.enabled\", True)  # Property used to format output tables better\n",
    "spark"
   ]
  },
  {
   "cell_type": "markdown",
   "metadata": {
    "id": "RDKGbT0yVgfO"
   },
   "source": [
    "Устанавливаем и подключаем необходимые для выполнения задания библиотеки, описанные в README.md и подключаем Google Drive, чтобы сохранять сгенерированные файлы локально."
   ]
  },
  {
   "cell_type": "code",
   "execution_count": null,
   "metadata": {
    "id": "-B_F1RN9B31J"
   },
   "outputs": [],
   "source": [
    "!pip install pdoc3\n",
    "!pip install country_list\n",
    "!pip install countryinfo\n",
    "\n",
    "# TODO: порядок импортов: сначала либы питона в алфавитном порядке(import, потом from)\n",
    "# посмотри на datetime, их можно прописать в одной строке, т.к. импорты из одной области\n",
    "# потом либы установленные в том же порядке\n",
    "# после импортов 2 пустые строки\n",
    "import hashlib\n",
    "import logging\n",
    "import random\n",
    "import string\n",
    "from datetime import date, datetime, timedelta\n",
    "from uuid import uuid4\n",
    "\n",
    "import country_list\n",
    "import countryinfo\n",
    "import pyspark.sql.functions as F\n",
    "import pyspark.sql.types as T\n",
    "from google.colab import drive\n",
    "\n",
    "\n",
    "drive.mount(\"/content/gdrive\")\n",
    "\n",
    "logger = logging.getLogger()\n",
    "logging.basicConfig(\n",
    "    filename = \"mylog.log\",\n",
    "    format = \"%(asctime)s - %(levelname)s - %(funcName)s: %(lineno)d - %(message)s\",\n",
    "    datefmt='%H:%M:%S',\n",
    ")"
   ]
  },
  {
   "cell_type": "code",
   "execution_count": null,
   "metadata": {
    "id": "s6W-pxqBJ_kl"
   },
   "outputs": [],
   "source": [
    "countries = list(country_list.countries_for_language(\"en\"))"
   ]
  },
  {
   "cell_type": "markdown",
   "metadata": {
    "id": "M-zvM4akiMky"
   },
   "source": [
    "Функция генерирующее число в строковом виде."
   ]
  },
  {
   "cell_type": "code",
   "execution_count": null,
   "metadata": {
    "id": "SQvHWOKWJ-Qb"
   },
   "outputs": [],
   "source": [
    "# TODO: также хороший код style писать тип возвращаемого значения\n",
    "# TODO: generate_value - 1) нужен глагол, как в описании, т.к. метод что-то именно делает + value - слишком обезличенно\n",
    "def generate_digits(count: int = 10) -> str:\n",
    "    \"\"\"Генерирует число по заданному количеству цифр.\n",
    "\n",
    "    Parameters:\n",
    "        count: int\n",
    "            Количество цифр в числе.\n",
    "\n",
    "    Returns:\n",
    "        str:\n",
    "            Сгенерированное число.\n",
    "    \"\"\"\n",
    "\n",
    "    return \"\".join(random.choices(string.digits, k=count))"
   ]
  },
  {
   "cell_type": "markdown",
   "metadata": {
    "id": "nRfZ_r9tWOU7"
   },
   "source": [
    "Создаём функцию \"generate_rows_table\", которая позволит сгенерировать список необходимых данных представленных для дальнейшего заполнения таблиц(витрин) из файла \"Витрины.docx\". Аргументами данной функции является число строк, которые мы хотим вставить в таблицу за раз и дата в поле \"timestampcolumn\"."
   ]
  },
  {
   "cell_type": "code",
   "execution_count": null,
   "metadata": {
    "id": "VCx853gvB3yh"
   },
   "outputs": [],
   "source": [
    "def generate_rows_table(\n",
    "    count: int = 1,\n",
    "    timestampcolumn: datetime = date.today()\n",
    ") -> list:\n",
    "    \"\"\"Генерует строки таблицы.\n",
    "\n",
    "    Parameters:\n",
    "        count: int\n",
    "            Количество строк.\n",
    "        timestampcolumn: datetime\n",
    "            Дата партиции.\n",
    "\n",
    "    Returns:\n",
    "        list_cookies: list\n",
    "            Возвращает массив списков, представляющий собой строку таблицы.\n",
    "    \"\"\"\n",
    "    \n",
    "    # TODO: полезно разделять пустыми строками разные логические части (инициализация переменных и цикл/начало if else, когда кажется,\n",
    "    # что в глазах все склеивается)\n",
    "    list_cookies = list()\n",
    "    \n",
    "    for _ in range(count):\n",
    "        # генерация cookies\n",
    "        inn = generate_digits(12)\n",
    "\n",
    "        _sa_cookie_a = {\n",
    "            \"key\": \"_sa_cookie_a\",\n",
    "            \"value\": f\"SA1.{uuid4()}.{generate_digits(10)}\"\n",
    "        }\n",
    "\n",
    "        _fa_cookie_a = {\n",
    "            \"key\": \"_fa_cookie_a\",\n",
    "            \"value\": f\"ads2.{generate_digits(10)}.{generate_digits(10)}\"\n",
    "        }\n",
    "\n",
    "        # TODO: когда поле состоит только из одного вызова, то джойн уже не нужен, т.к. из метода и так строка выходит\n",
    "        _ym_cookie_c = {\n",
    "            \"key\": \"_ym_cookie_c\",\n",
    "            \"value\": generate_digits(20)\n",
    "        }\n",
    "\n",
    "        _fbp = {\n",
    "            \"key\": \"_fbp\",\n",
    "            \"value\": f\"fb.{random.choice(string.digits)}.\"\n",
    "                     f\"{generate_digits(13)}.\"\n",
    "                     f\"{generate_digits(9)}\"\n",
    "        }\n",
    "\n",
    "        org_uid = {\n",
    "            \"key\": \"org_uid\",\n",
    "            \"value\": generate_digits(7)\n",
    "        }\n",
    "\n",
    "        user_uid = {\n",
    "            \"key\": \"user_uid\",\n",
    "            \"value\": generate_digits(7)\n",
    "        }\n",
    "\n",
    "        # TODO: по сути можем сразу схлопнуть 2 и 3 знака\n",
    "        user_phone = {\n",
    "            \"key\": \"user_phone\",\n",
    "            \"value\": f\"79{generate_digits(9)}\"\n",
    "        }\n",
    "\n",
    "        user_mail = {\n",
    "            \"key\": \"user_mail\",\n",
    "            \"value\": f\"\"\"{''.join(random.choices(string.ascii_letters +\n",
    "                             string.digits, k=10))}@user.io\"\"\"\n",
    "        }\n",
    "\n",
    "        # генерация event_type\n",
    "        event_type = random.choice([\"SUBMIT\", \"REGISTER\", \"SUBMIT_MD5\"])\n",
    "\n",
    "        # генерация event_action\n",
    "        event_action = random.choice([\"pageview\", \"event\", \"login-check-otp\"])\n",
    "\n",
    "        # генерация data_value\n",
    "        if event_type == \"SUBMIT\":\n",
    "            data_value = hashlib.sha256(bytes(inn, encoding=\"utf-8\")).hexdigest()\n",
    "        elif event_type == \"SUBMIT_MD5\":\n",
    "            data_value = hashlib.md5(bytes(inn, encoding=\"utf-8\")).hexdigest()\n",
    "        else:\n",
    "            data_value = None\n",
    "\n",
    "        # генерация страный, города и геопозиции\n",
    "        while True:\n",
    "            try:\n",
    "                # TODO: лучше не завязываться на индексах, тут мы скипаем первый элемент и берем только второй\n",
    "                _, geocountry = random.choice(countries)\n",
    "                country = countryinfo.CountryInfo(geocountry)\n",
    "                city = country.capital()\n",
    "                geoaltitude = \",\".join(map(str, country.latlng()))\n",
    "                break\n",
    "            except KeyError as e:\n",
    "                logger.error(f\"В списке 'country' отсутствует значение {str(e)}\")\n",
    "\n",
    "        # Генерация meta_platform\n",
    "        meta_platform = random.choice([\"WEB\", \"MOBAIL\"])\n",
    "\n",
    "        # Генерация user_os\n",
    "        if meta_platform == \"WEB\":\n",
    "            user_os = random.choice([\"Mac\", \"Windows\", \"Ubuntu\"])\n",
    "        else:\n",
    "            user_os = random.choice([\"IOS\", \"Android\", \"HarmonyOS\", \"BlackBerryOS\"])\n",
    "        # Генерация systemlanguage\n",
    "        systemlanguage = random.choice([\"RU\", \"ENG\"])\n",
    "\n",
    "        # Генерация screensize\n",
    "        screensize = \"1920x1080\"\n",
    "\n",
    "        # Добавление спосков в единый список\n",
    "        list_cookies.append([\n",
    "            inn,\n",
    "            [\n",
    "                _sa_cookie_a,\n",
    "                _fa_cookie_a,\n",
    "                _ym_cookie_c,\n",
    "                _fbp,\n",
    "                org_uid,\n",
    "                user_uid,\n",
    "                user_phone,\n",
    "                user_mail\n",
    "            ],\n",
    "            event_type,\n",
    "            event_action,\n",
    "            data_value,\n",
    "            geocountry,\n",
    "            city,\n",
    "            user_os,\n",
    "            systemlanguage,\n",
    "            geoaltitude,\n",
    "            meta_platform,\n",
    "            screensize,\n",
    "            timestampcolumn\n",
    "        ])\n",
    "    return list_cookies"
   ]
  },
  {
   "cell_type": "markdown",
   "metadata": {
    "id": "TNAwKk7Xa3S8"
   },
   "source": [
    "Объявление схемы данных таблицы"
   ]
  },
  {
   "cell_type": "code",
   "execution_count": null,
   "metadata": {
    "id": "OP8_wNZV9jAq"
   },
   "outputs": [],
   "source": [
    "# схема данных\n",
    "schema = T.StructType([\n",
    "    T.StructField(\"inn\", T.StringType(), True),\n",
    "    T.StructField(\n",
    "        \"raw_cookie\",\n",
    "        T.ArrayType(\n",
    "            T.MapType(\n",
    "                T.StringType(),\n",
    "                T.StringType()\n",
    "            )\n",
    "        )\n",
    "    ),\n",
    "    T.StructField(\"event_type\", T.StringType(), True),\n",
    "    T.StructField(\"event_action\", T.StringType(), True),\n",
    "    T.StructField(\"data_value\", T.StringType(), True),\n",
    "    T.StructField(\"geocountry\", T.StringType(), True),\n",
    "    T.StructField(\"city\", T.StringType(), True),\n",
    "    T.StructField(\"user_os\", T.StringType(), True),\n",
    "    T.StructField(\"systemlanguage\", T.StringType(), True),\n",
    "    T.StructField(\"geoaltitude\", T.StringType(), True),\n",
    "    T.StructField(\"meta_platform\", T.StringType(), True),\n",
    "    T.StructField(\"screensize\", T.StringType(), True),\n",
    "    T.StructField(\"timestampcolumn\", T.DateType(), True)\n",
    "])"
   ]
  },
  {
   "cell_type": "markdown",
   "metadata": {
    "id": "b5ZPVs5VbE6_"
   },
   "source": [
    "Цикл, генерируемый записи таблицы и сохраняемый их в файлы формата JSON, в\n",
    "каталоги по дням недели. Все каталоги создаются автоматически. Данный цикл эмулирует постоянное добавление файлов. Необходимо запустить в фоновом режиме, пока идет работа с файлом \"Create_data_marts.ipynb\". Это требуется, чтобы смоделировать приближенную картину к реальности при работе с витриной \"B\" и витриной \"D\", так как они одинаковые, но количество строк в них может быть разным.\n",
    "\n",
    "Чтобы не допустить переполнение диска, цикл отработает 10 раз после чего\n",
    "выключится самостоятельно. По итогу будет сгеренировано тестовых данных за 10 дней.\n",
    "\n"
   ]
  },
  {
   "cell_type": "code",
   "execution_count": null,
   "metadata": {
    "id": "fV4aDEDk7X0X"
   },
   "outputs": [],
   "source": [
    "# Цикл генерирует каталоги с файлами в формате JSON согласно партиционирования\n",
    "# TODO: тут опять же про пустые строки, с ними гораздо проще читается\n",
    "current_date = date.today()\n",
    "folder = \"/content/gdrive/MyDrive/data/json/\"\n",
    "\n",
    "if not os.path.isdir(folder):\n",
    "    os.makedirs(folder)\n",
    "    \n",
    "i = 0\n",
    "\n",
    "while i < 10:\n",
    "    for _ in range(random.randrange(5, 10)):\n",
    "        df = spark.createDataFrame(\n",
    "            generate_rows_table(30, current_date),\n",
    "            schema=schema\n",
    "        )\n",
    "        \n",
    "        df.coalesce(1).write.mode(\"append\") \\\n",
    "          .json(f\"{folder}{current_date.strftime('%Y_%m_%d')}\")\n",
    "\n",
    "    # TODO: есть операторы += -= *= и т.д., чтобы не дублировать левую переменную\n",
    "    current_date += timedelta(1)\n",
    "    i = i + 1"
   ]
  },
  {
   "cell_type": "code",
   "execution_count": null,
   "metadata": {},
   "outputs": [],
   "source": [
    "# TODO: всегда останавливаем спарк сессию\n",
    "spark.stop()"
   ]
  }
 ],
 "metadata": {
  "colab": {
   "authorship_tag": "ABX9TyMpKV/NWpeR9yxu9uaYfK0V",
   "mount_file_id": "1QJhmaAGopzt9t7oh9CV420mWCQAGD63i",
   "provenance": []
  },
  "kernelspec": {
   "display_name": "Python 3 (ipykernel)",
   "language": "python",
   "name": "python3"
  },
  "language_info": {
   "codemirror_mode": {
    "name": "ipython",
    "version": 3
   },
   "file_extension": ".py",
   "mimetype": "text/x-python",
   "name": "python",
   "nbconvert_exporter": "python",
   "pygments_lexer": "ipython3",
   "version": "3.9.7"
  }
 },
 "nbformat": 4,
 "nbformat_minor": 1
}
